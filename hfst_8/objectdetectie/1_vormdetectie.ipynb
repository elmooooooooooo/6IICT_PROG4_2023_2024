{
 "cells": [
  {
   "attachments": {},
   "cell_type": "markdown",
   "id": "695ca872",
   "metadata": {},
   "source": [
    "<div style=\"margin-bottom:-35px;\">\n",
    "    <font color=#FFFFFF markdown=\"1\">\n",
    "        <h1> <center> Gebaseerd op een cursus van:</center> </h1> \n",
    "    </font>\n",
    "    <a href=\"https://www.aiopschool.be/chatbot/\"> \n",
    "        <img src=\"../_afbeeldingen/bannerugentdwengo.png\" alt=\"Dwengo\" style =\"display: block; margin-left: auto; margin-right: auto; margin-bottom: 30px; width:20%\"/>\n",
    "    </a>\n",
    "</div>"
   ]
  },
  {
   "cell_type": "markdown",
   "id": "bbc6c87e",
   "metadata": {},
   "source": [
    "# Toepassing: Vormdetectie"
   ]
  },
  {
   "cell_type": "markdown",
   "id": "4e069ddb",
   "metadata": {},
   "source": [
    "<div style=\"background-color:#8B8000\">\n",
    "Hoewel objectdetectiesystemen tegenwoordig al op veel plaatsen gebruikt worden in de maatschappij, zijn er toch nog heel wat verbeteringen mogelijk. In deze Notebook kom je we wat meer te weten over de basiswerking van een objectdetectiesysteem. Meer specifiek kijken we hiervoor naar het detecteren van vormen.\n",
    "</div>"
   ]
  },
  {
   "cell_type": "markdown",
   "id": "36e1ae1d",
   "metadata": {},
   "source": [
    "## 1. Algemene info"
   ]
  },
  {
   "cell_type": "markdown",
   "id": "48cc8627",
   "metadata": {},
   "source": [
    "### 1.1 Modules installeren"
   ]
  },
  {
   "cell_type": "markdown",
   "id": "f7ce80a4",
   "metadata": {},
   "source": [
    "Voer onderstaande code-cel uit. Deze bevat de modules noodzakelijk voor deze notebook. Dit is een eenmalige actie."
   ]
  },
  {
   "cell_type": "markdown",
   "id": "35de5acf",
   "metadata": {},
   "source": [
    "<div style=\"background-color:#8B0000\"> \n",
    "Controleert eerst dat deze notebook gebruik maakt van een venv. Vraag indien nodig aan de leerkracht om dit te controleren.</div>"
   ]
  },
  {
   "cell_type": "code",
   "execution_count": 1,
   "id": "ee72e604",
   "metadata": {},
   "outputs": [
    {
     "name": "stdout",
     "output_type": "stream",
     "text": [
      "Collecting opencv-python\n",
      "  Downloading opencv_python-4.9.0.80-cp37-abi3-win_amd64.whl (38.6 MB)\n",
      "     -------------------------------------- 38.6/38.6 MB 171.3 kB/s eta 0:00:00\n",
      "Collecting numpy>=1.17.3\n",
      "  Downloading numpy-1.26.4-cp310-cp310-win_amd64.whl (15.8 MB)\n",
      "     -------------------------------------- 15.8/15.8 MB 282.4 kB/s eta 0:00:00\n",
      "Installing collected packages: numpy, opencv-python\n",
      "Successfully installed numpy-1.26.4 opencv-python-4.9.0.80\n",
      "Note: you may need to restart the kernel to use updated packages.\n"
     ]
    },
    {
     "name": "stderr",
     "output_type": "stream",
     "text": [
      "\n",
      "[notice] A new release of pip available: 22.2.1 -> 24.0\n",
      "[notice] To update, run: python.exe -m pip install --upgrade pip\n"
     ]
    },
    {
     "name": "stdout",
     "output_type": "stream",
     "text": [
      "Requirement already satisfied: numpy in c:\\venv\\venv_ai\\lib\\site-packages (1.26.4)\n",
      "Note: you may need to restart the kernel to use updated packages.\n"
     ]
    },
    {
     "name": "stderr",
     "output_type": "stream",
     "text": [
      "\n",
      "[notice] A new release of pip available: 22.2.1 -> 24.0\n",
      "[notice] To update, run: python.exe -m pip install --upgrade pip\n"
     ]
    },
    {
     "name": "stdout",
     "output_type": "stream",
     "text": [
      "Collecting matplotlib\n",
      "  Downloading matplotlib-3.8.4-cp310-cp310-win_amd64.whl (7.7 MB)\n",
      "     ---------------------------------------- 7.7/7.7 MB 397.2 kB/s eta 0:00:00\n",
      "Requirement already satisfied: numpy>=1.21 in c:\\venv\\venv_ai\\lib\\site-packages (from matplotlib) (1.26.4)\n",
      "Collecting cycler>=0.10\n",
      "  Downloading cycler-0.12.1-py3-none-any.whl (8.3 kB)\n",
      "Collecting pillow>=8\n",
      "  Downloading pillow-10.3.0-cp310-cp310-win_amd64.whl (2.5 MB)\n",
      "     ---------------------------------------- 2.5/2.5 MB 442.1 kB/s eta 0:00:00\n",
      "Collecting fonttools>=4.22.0\n",
      "  Downloading fonttools-4.51.0-cp310-cp310-win_amd64.whl (2.2 MB)\n",
      "     ---------------------------------------- 2.2/2.2 MB 619.2 kB/s eta 0:00:00\n",
      "Collecting kiwisolver>=1.3.1\n",
      "  Using cached kiwisolver-1.4.5-cp310-cp310-win_amd64.whl (56 kB)\n",
      "Collecting pyparsing>=2.3.1\n",
      "  Downloading pyparsing-3.1.2-py3-none-any.whl (103 kB)\n",
      "     ------------------------------------ 103.2/103.2 kB 853.3 kB/s eta 0:00:00\n",
      "Requirement already satisfied: python-dateutil>=2.7 in c:\\venv\\venv_ai\\lib\\site-packages (from matplotlib) (2.9.0.post0)\n",
      "Collecting contourpy>=1.0.1\n",
      "  Downloading contourpy-1.2.1-cp310-cp310-win_amd64.whl (187 kB)\n",
      "     ------------------------------------ 187.5/187.5 kB 596.7 kB/s eta 0:00:00\n",
      "Requirement already satisfied: packaging>=20.0 in c:\\venv\\venv_ai\\lib\\site-packages (from matplotlib) (24.0)\n",
      "Requirement already satisfied: six>=1.5 in c:\\venv\\venv_ai\\lib\\site-packages (from python-dateutil>=2.7->matplotlib) (1.16.0)\n",
      "Installing collected packages: pyparsing, pillow, kiwisolver, fonttools, cycler, contourpy, matplotlib\n",
      "Successfully installed contourpy-1.2.1 cycler-0.12.1 fonttools-4.51.0 kiwisolver-1.4.5 matplotlib-3.8.4 pillow-10.3.0 pyparsing-3.1.2\n",
      "Note: you may need to restart the kernel to use updated packages.\n"
     ]
    },
    {
     "name": "stderr",
     "output_type": "stream",
     "text": [
      "\n",
      "[notice] A new release of pip available: 22.2.1 -> 24.0\n",
      "[notice] To update, run: python.exe -m pip install --upgrade pip\n"
     ]
    }
   ],
   "source": [
    "# installeren van module opencv\n",
    "%pip install opencv-python\n",
    "# installeren van module numpy\n",
    "%pip install numpy\n",
    "# installeren van module matplotlib\n",
    "%pip install matplotlib"
   ]
  },
  {
   "cell_type": "markdown",
   "id": "8515d4e2",
   "metadata": {},
   "source": [
    "<div style=\"background-color:#000065\"> \n",
    "<p>Je zal gebruikmaken van opencv. OpenCV-Python is een module ontworpen om computervisieproblemen op te lossen. Deze bevat reeds voorgeprogrammeerde functies die kunnen gebruikt worden voor objectverwerking, -verdeling, -detectie, -herkenning, ...\n",
    "\n",
    "Hiernaast installeer je ook numpy en matplotlib. Numpy is een module die een scala aan wiskundige en wetenschappelijke functies aanbied. Matplotlib is een module bedoeld om grafieken op te stellen. We zullen deze laatste gebruiken om verwerkte afbeeldingen in de Notebook te tonen.\n",
    "</div>"
   ]
  },
  {
   "cell_type": "markdown",
   "id": "39605445",
   "metadata": {},
   "source": [
    "### 1.2 Wat is objectdetectie?"
   ]
  },
  {
   "cell_type": "markdown",
   "id": "601f7e6c",
   "metadata": {},
   "source": [
    "De definitie van objectdetectie is als volgt:\n",
    "\n",
    "> Een computervisietechniek met als doel objecten op een afbeelding of video te lokaliseren en a.d.h.v. een classificatietechniek te identificeren. \n"
   ]
  },
  {
   "cell_type": "markdown",
   "id": "20e8b94b",
   "metadata": {},
   "source": [
    "Deze techniek wordt bijvoorbeeld toegepast door de politie bij het oplossen van een misdrijf. Een computersysteem kan namelijk veel sneller werken dan een mens. Toch is het niet zo eenvoudig voor een computer om objecten op een afbeelding te herkennen. Dit komt doordat de computer op een andere manier naar een afbeelding kijkt...\n",
    "\n",
    "Om de moeilijkheid van objectdetectie duidelijk te maken. Zullen we in deze notebook een eenvoudige toepassing bekijken. Namelijk het detecteren van vormen op een afbeelding. Dit via een `regelgebaseerde (AI) techniek`. "
   ]
  },
  {
   "cell_type": "markdown",
   "id": "84437ac8",
   "metadata": {},
   "source": [
    "## 2. Hoe 'ziet' de computer?"
   ]
  },
  {
   "cell_type": "markdown",
   "id": "355d6fa4",
   "metadata": {},
   "source": [
    "### 2.1 Theoretische uitleg"
   ]
  },
  {
   "cell_type": "markdown",
   "id": "186dd2ac",
   "metadata": {},
   "source": [
    "Een computer werkt binair. Een computer zal dus geen afbeelding te zien krijgen zoals wij die zien, maar wel allemaal getallen (zie onderstaande afbeeldingen). Dit werkt als volgt: Een afbeelding bestaat uit pixels. Iedere pixel heeft een bepaalde kleur (R,G,B); die kan worden voorgesteld door een reeks getallen. \n",
    "\n",
    "De computer ziet dus eigenlijk geen afbeelding maar een lange reeks aan getallen. Iedere 3 bytes aan getallen stelt een pixel voor. Doordat een computer dus met getallen werkt, zal het moeilijker zijn voor een computer om een voorwerp te herkennen dan voor de mens."
   ]
  },
  {
   "cell_type": "markdown",
   "id": "aa945618",
   "metadata": {},
   "source": [
    "<div style=\"background-color:#000065\">\n",
    "    Een computer ziet enkel een digitale (binaire) representatie van een afbeelding. De betekenis van wat er te zien is, ontgaat de computer.\n",
    "</div>"
   ]
  },
  {
   "cell_type": "markdown",
   "id": "438b7b6b",
   "metadata": {},
   "source": [
    "<table style=\"margin-left: auto;  margin-right: auto;\"><tr>\n",
    "<td><figure>\n",
    "  <img src=\"../_afbeeldingen/beeldcomputer.jpg\" alt=\"Trulli\" style =\"display: block; margin-left: auto; margin-right: auto; width:100%\"/>\n",
    "   <center>\"Zien\": Mens vs Computer</center> \n",
    "    </figure></td>\n",
    "<td><figure>\n",
    "  <img src=\"../_afbeeldingen/watcomputerziet.png\" alt=\"Trulli\" style =\"display: block; margin-left: auto; margin-right: auto; width:100%\">\n",
    "  <center>\"Zien\": Mens vs Computer</center>\n",
    "</figure></td>\n",
    "</tr></table>"
   ]
  },
  {
   "cell_type": "markdown",
   "id": "c2ed0ef4",
   "metadata": {},
   "source": [
    "### 2.2 Beperkingen van computervisie"
   ]
  },
  {
   "attachments": {},
   "cell_type": "markdown",
   "id": "51a5bac4",
   "metadata": {},
   "source": [
    "#### Oefen mee 2.1"
   ]
  },
  {
   "attachments": {},
   "cell_type": "markdown",
   "id": "a199c481",
   "metadata": {},
   "source": [
    "- Welk objecten zie je op onderstaande onscherpe afbeeldingen? <div style=\"background-color:#008000\">\n",
    "    - Afbeelding 1:  auto \n",
    "    - Afbeelding 2:  auto 90 graden gedraaid  \n",
    "</div>"
   ]
  },
  {
   "cell_type": "markdown",
   "id": "ac63c6fb",
   "metadata": {},
   "source": [
    "<table style=\"margin-left: auto;  margin-right: auto;\"><tr>\n",
    "<td><figure>\n",
    "  <img src=\"../_afbeeldingen/wazigeafbeelding1.jpg\" alt=\"Trulli\" style =\"display: block; margin-left: auto; margin-right: auto; margin-bottom: 10px; width:70%\">\n",
    "   <center>Afbeelding 1</center> \n",
    "    </figure></td>\n",
    "<td><figure>\n",
    "  <img src=\"../_afbeeldingen/wazigeafbeelding2.jpg\" alt=\"Trulli\" style =\"display: block; margin-left: auto; margin-right: auto; margin-bottom: 10px; width:70%\">\n",
    "  <center>Afbeelding 2</center>\n",
    "</figure></td>\n",
    "</tr></table>"
   ]
  },
  {
   "cell_type": "markdown",
   "id": "13cb7efa",
   "metadata": {},
   "source": [
    "Als we beide afbeeldingen zouden verscherpen, is dezelfde auto twee keer te zien. Op de tweede afbeelding is de auto echter 90 graden gedraaid. Waarom identificeer je het object op de tweede afbeelding niet als een rechtstaande auto? Misschien omdat je de link legt met de straat & gebouwen die zichtbaar zijn op de figuur? "
   ]
  },
  {
   "attachments": {},
   "cell_type": "markdown",
   "id": "1b02e0e6",
   "metadata": {},
   "source": [
    "<div style=\"background-color:#000065\">\n",
    "Terwijl het voor een mens vanzelfsprekend is om objecten te linken aan de omgeving er rond, is dit voor een computer/algoritme veel complexer. Hierin bevindt zich dus grote moeilijkheid bij het detecteren en identificeren van objecten.  \n",
    "</div>"
   ]
  },
  {
   "cell_type": "markdown",
   "id": "84f0462c",
   "metadata": {},
   "source": [
    "#### Oefen mee 2.2"
   ]
  },
  {
   "cell_type": "markdown",
   "id": "a5fe04e3",
   "metadata": {},
   "source": [
    "- Bekijk onderstaande afbeelding.\n",
    "    - <div style=\"background-color:#008000\"> Hoeveel honden zie je? 19    </div>    "
   ]
  },
  {
   "cell_type": "markdown",
   "id": "c97eee63",
   "metadata": {},
   "source": [
    "  <img src=\"../_afbeeldingen/meerderehonden.png\" alt=\"Trulli\" style =\"display: block; margin-left: auto; margin-right: auto; width:40%\"/>"
   ]
  },
  {
   "cell_type": "markdown",
   "id": "cbb1a72e",
   "metadata": {},
   "source": [
    "Het tellen is niet zo eenvoudig. Dit omdat de honden willekeurig op de afbeelding verspreidt staan. Computers krijgen vaak met afbeeldingen te maken die niet optimaal zijn. Dit kan ook omwille van andere redenen zoals belichting, resolutie, schaal, andere objecten/achtergrond afbeelding, ..."
   ]
  },
  {
   "cell_type": "markdown",
   "id": "12795af1",
   "metadata": {},
   "source": [
    "<div style=\"background-color:#000065\">\n",
    "Hiernaast is er nog een niet te onderschatten aspect. Namelijk dat al deze honden er verschillend uitzien. Hondenrassen verschillen qua grootte, vorm, kleur, ... . Echter zijn het wel allemaal honden. Een model dat alle verschillende rassen als hond herkent, moet ook met afbeeldingen van alle rassen getraind zijn. Dan nog kan het af en toe misgaan. Zou het model onderstaande afbeelding als hond of als kat zien?\n",
    "</div>"
   ]
  },
  {
   "cell_type": "markdown",
   "id": "ac654c9e",
   "metadata": {},
   "source": [
    "  <img src=\"../_afbeeldingen/hondkatoranje.png\" alt=\"Trulli\" style =\"display: block; margin-left: auto; margin-right: auto; width:20%\"/>"
   ]
  },
  {
   "cell_type": "markdown",
   "id": "96c1748b",
   "metadata": {},
   "source": [
    "## 3. Afbeelding inladen & analyseren"
   ]
  },
  {
   "cell_type": "markdown",
   "id": "09f89dff",
   "metadata": {},
   "source": [
    "### 3.1 Modules importeren & variabelen/functies klaarzetten "
   ]
  },
  {
   "cell_type": "markdown",
   "id": "1d69aa03",
   "metadata": {},
   "source": [
    "Importeer de module `opencv` & `matplotlib`."
   ]
  },
  {
   "cell_type": "code",
   "execution_count": 2,
   "id": "ee8ba7ca",
   "metadata": {},
   "outputs": [
    {
     "name": "stderr",
     "output_type": "stream",
     "text": [
      "Matplotlib is building the font cache; this may take a moment.\n"
     ]
    }
   ],
   "source": [
    "import cv2\n",
    "from matplotlib import pyplot as plt"
   ]
  },
  {
   "cell_type": "markdown",
   "id": "188360ea",
   "metadata": {},
   "source": [
    "Voer hierna onderstaande cel uit om de functie `plt_imshow` aan te maken. Deze functie toont de (verwerkte) afbeelding met `matplotlib`."
   ]
  },
  {
   "cell_type": "code",
   "execution_count": 3,
   "id": "e4a19ab4",
   "metadata": {},
   "outputs": [],
   "source": [
    "#functie om afbeelding weer te geven\n",
    "def plt_imshow(titel, afbeelding):\n",
    "    plt.imshow(afbeelding, cmap='Greys_r')\n",
    "    plt.title(titel)\n",
    "    plt.grid(False)\n",
    "    plt.show()"
   ]
  },
  {
   "cell_type": "markdown",
   "id": "76d384bc",
   "metadata": {},
   "source": [
    "### 3.2 Afbeelding analyseren"
   ]
  },
  {
   "cell_type": "markdown",
   "id": "f1fcfe69",
   "metadata": {},
   "source": [
    "We zullen in deze notebook vormen detecteren op een afbeelding. Het doel is om alle vormen op afbeelding `vormen.png` te herkennen. Na de afbeelding in te laden, kan je deze tonen via de functie **plt_imshow**."
   ]
  },
  {
   "cell_type": "code",
   "execution_count": 5,
   "id": "156163dc",
   "metadata": {},
   "outputs": [
    {
     "data": {
      "image/png": "[encoded data removed]",
      "text/plain": [
       "<Figure size 640x480 with 1 Axes>"
      ]
     },
     "metadata": {},
     "output_type": "display_data"
    }
   ],
   "source": [
    "# Afbeelding inladen.\n",
    "afbeelding = cv2.imread(r\"../_afbeeldingen/vormen.png\")\n",
    "afbeelding = cv2.cvtColor(afbeelding, cv2.COLOR_BGR2RGB)\n",
    "\n",
    "# Afbeelding tonen.\n",
    "plt_imshow(\"Vormen\", afbeelding)"
   ]
  },
  {
   "cell_type": "markdown",
   "id": "b8c10cd2",
   "metadata": {},
   "source": [
    "<div style=\"background-color:#8B0000\"> \n",
    "Links van de code-cel staan drie puntjes. Selecteer hier de optie <b>'clear cell outputs'</b> om de afbeelding te verwijderen. Probeer dit eens!\n",
    "</div>"
   ]
  },
  {
   "cell_type": "markdown",
   "id": "12cd3190",
   "metadata": {},
   "source": [
    "#### Oefen mee 3.1"
   ]
  },
  {
   "cell_type": "markdown",
   "id": "621f8730",
   "metadata": {},
   "source": [
    "-  Beantwoord volgende vragen over de afbeeldingen `vormen.png`: <div style=\"background-color:#008000\">\n",
    "    - Welke wiskundige vormen herken je?   driehoek, cirkel, trapezium, hexagon\n",
    "    - Hoe herken je deze vormen? Met andere woorden, waar let je op?   op mijn ogen en nadenken\n",
    "    - Kan je dit omvormen naar een eigenschap (vb. het ... bepaalt de vorm)? aantal hoeken\n",
    "</div>"
   ]
  },
  {
   "cell_type": "markdown",
   "id": "861d091a",
   "metadata": {},
   "source": [
    "## 4. Algoritme voor vormdetectie"
   ]
  },
  {
   "cell_type": "markdown",
   "id": "315219cc",
   "metadata": {},
   "source": [
    "### 4.1 Modules importeren & variabelen/functies klaarzetten "
   ]
  },
  {
   "cell_type": "markdown",
   "id": "9c45e315",
   "metadata": {},
   "source": [
    "Importeer de module `opencv` & `matplotlib`."
   ]
  },
  {
   "cell_type": "code",
   "execution_count": 6,
   "id": "a7869ea1",
   "metadata": {},
   "outputs": [],
   "source": [
    "import cv2\n",
    "from matplotlib import pyplot as plt"
   ]
  },
  {
   "cell_type": "markdown",
   "id": "939bfb59",
   "metadata": {},
   "source": [
    "Voer hierna onderstaande cel uit om de functie `plt_imshow` aan te maken. Deze functie leest een afbeelding in via `opencv` en toont de afbeelding met `matplotlib`."
   ]
  },
  {
   "cell_type": "code",
   "execution_count": 17,
   "id": "832a04fc",
   "metadata": {},
   "outputs": [],
   "source": [
    "#functie om afbeelding weer te geven\n",
    "def plt_imshow(titel, afbeelding):\n",
    "    plt.imshow(afbeelding, cmap='Greys_r')\n",
    "    plt.title(titel)\n",
    "    plt.grid(False)\n",
    "    plt.show()"
   ]
  },
  {
   "cell_type": "markdown",
   "id": "6d9fa5bb",
   "metadata": {},
   "source": [
    "Om het algoritme te ontwikkelen, zal afbeelding `driehoek.jpg` als voorbeeld dienen. controleer of je deze kan inladen. "
   ]
  },
  {
   "cell_type": "code",
   "execution_count": 8,
   "id": "3792dd53",
   "metadata": {},
   "outputs": [
    {
     "data": {
      "image/png": "[encoded data removed]",
      "text/plain": [
       "<Figure size 640x480 with 1 Axes>"
      ]
     },
     "metadata": {},
     "output_type": "display_data"
    }
   ],
   "source": [
    "# Afbeelding inladen.\n",
    "driehoek = cv2.imread(r\"../_afbeeldingen/driehoek.jpg\")\n",
    "driehoek = cv2.cvtColor(driehoek, cv2.COLOR_BGR2RGB)\n",
    "\n",
    "# Afbeelding tonen.\n",
    "plt_imshow(\"Vormen\",driehoek)"
   ]
  },
  {
   "cell_type": "markdown",
   "id": "00e76984",
   "metadata": {},
   "source": [
    "### 4.2 Hoe werkt het algoritme?"
   ]
  },
  {
   "cell_type": "markdown",
   "id": "92dc5260",
   "metadata": {},
   "source": [
    "Net zoals jij in *oefen mee 3.1* deed. Moet het algoritme eigenschappen gebruiken om de vormen op de afbeelding te herkennen. Wij denken hier niet zo diep meer bij na, maar het is doordat we bepaalde eigenschappen hebben aangeleerd dat het herkennen van objecten zo vlot verloopt. Zo herkennen we bovenstaande vormen aan de hand van het aantal hoeken, aan het aantal evenwijdige zijden, ... . Wij kunnen deze eigenschappen makkelijk zien op het eerste zicht. Een computer kan echter enkel de getallen achter de afbeelding 'zien' (*deel 2.1 'theoretische uitleg'*). \n",
    "\n",
    "Wij moeten het algoritme dus aangeven hoe het een bepaalde figuur kan herkennen. Dit door te zeggen op welke eigenschap het moet letten. We kunnen het voor deze implementatie simpel houden. **Het aantal zijden bepaalt de vorm. Een driehoek heeft 3 zijden, een vierhoek 4, enz...**. Een `regelgebaseerde implementatie (AI)` volstaat om een dergelijk algoritme te ontwikkelen.\n",
    "\n",
    "<div style=\"background-color:#8B0000\"> \n",
    "Merk wel op dat deze manier van werken redelijk dom is... er bestaan meerdere vormen met bvb. 4 zijden. Het algoritme zal dus enkel werken voor deze specifieke afbeelding.\n",
    "</div>"
   ]
  },
  {
   "cell_type": "markdown",
   "id": "eb51e1da",
   "metadata": {},
   "source": [
    "### 4.3 Afbeelding converteren naar grijswaarden"
   ]
  },
  {
   "attachments": {},
   "cell_type": "markdown",
   "id": "3603be25",
   "metadata": {},
   "source": [
    "Iedere pixel op een afbeelding bestaat uit 3 getallen tussen 0 en 255 (**RGB**), 3 bytes per pixel met andere woorden. Dit grootte aantal getallen verwerken kan zeer belastend zijn. Om de processor te sparen kan de computer de afbeelding eerst omzetten naar een `grijswaardenafbeelding`. Waarbij iedere pixel slechts uit 1 getal tussen 0 en 255 bestaat, dus slechts 1 byte per pixel. \n",
    "\n",
    "Door de pixelwaardes om te zetten naar grijswaarden, is het verschil tussen achtergrond en voorgrond ook duidelijker. In dit geval is de achtergrond wit (hogere pixelwaarde); de vormen zijn grijs/zwart (lagere pixelwaarde)."
   ]
  },
  {
   "cell_type": "markdown",
   "id": "b98d7744",
   "metadata": {},
   "source": [
    "#### Oefen mee 4.1"
   ]
  },
  {
   "cell_type": "markdown",
   "id": "64401446",
   "metadata": {},
   "source": [
    "Laten we het verschil tussen achter- & voorgrond aantonen via de afbeelding `driehoek.jpg`. Voer hiervoor onderstaand code-blok uit. Deze code vormt de afbeelding om naar grijswaarden. Vervolgens toont het de verwerkte afbeelding, alsook de pixel-waarden van de afbeelding.\n",
    "\n",
    "- Beantwoord volgende vragen: <div style=\"background-color:#008000\">\n",
    "    - Welke pixel-waarde(n) heeft de achtergrond?  3 bytes RGB waarde\n",
    "    - Welke pixel-waarde(n) heeft de driehoek?   3 zijdes\n",
    "</div>"
   ]
  },
  {
   "cell_type": "code",
   "execution_count": 9,
   "id": "2b0a16ef",
   "metadata": {},
   "outputs": [
    {
     "data": {
      "image/png": "[encoded data removed]",
      "text/plain": [
       "<Figure size 640x480 with 1 Axes>"
      ]
     },
     "metadata": {},
     "output_type": "display_data"
    },
    {
     "name": "stdout",
     "output_type": "stream",
     "text": [
      "[[254 254 254 254 251 252 254 254 253 254 254 253 254 255 254]\n",
      " [254 252 254 254 254 253 254 244 253 255 254 254 254 255 255]\n",
      " [254 254 254 253 253 254 252 217 251 254 254 253 254 254 252]\n",
      " [255 254 254 255 254 247 223  75 224 247 254 254 253 254 254]\n",
      " [253 253 253 252 253 217  72  78  77 218 252 252 255 254 252]\n",
      " [254 255 253 246 221  75  79  76  78  77 220 247 254 254 254]\n",
      " [253 254 248 217  78  75  77  77  77  74  76 207 253 253 254]\n",
      " [254 243 226  77  76  79  75  76  76  78  76  76 222 247 254]\n",
      " [254 213  75  77  77  76  75  78  77  75  79  75  74 215 254]\n",
      " [232  79  77  75  75  75  81  75  74  77  74  77  86  78 247]\n",
      " [ 73  76  73  79  78  76  76  74  77  79  75  70  78  75  75]\n",
      " [229 227 229 227 225 229 229 226 227 228 230 228 227 230 227]]\n"
     ]
    }
   ],
   "source": [
    "# Afbeelding inladen (met grijswaarden).\n",
    "driehoek = cv2.imread(r\"../_afbeeldingen/driehoek.jpg\")\n",
    "driehoek_grijs = cv2.cvtColor(driehoek, cv2.COLOR_BGR2GRAY)\n",
    "\n",
    "# Afbeelding & pixelwaarden tonen.\n",
    "plt_imshow(\"grijsafbeelding\", driehoek_grijs)\n",
    "print(driehoek_grijs)"
   ]
  },
  {
   "cell_type": "markdown",
   "id": "84534fc0",
   "metadata": {},
   "source": [
    "#### Oefen mee 4.2"
   ]
  },
  {
   "cell_type": "markdown",
   "id": "17b53085",
   "metadata": {},
   "source": [
    "Vorm zelf de afbeelding `vormen.png` om naar grijswaarden. Baseer je hiervoor op de code uit **oefen mee 4.1**. Toon zowel de omgevormde afbeelding als de nieuwe pixelwaarden."
   ]
  },
  {
   "cell_type": "markdown",
   "id": "7c4511e9",
   "metadata": {},
   "source": [
    "<div style=\"background-color:#8B0000\"> \n",
    "De lijst met pixel-waarden wordt ingekort door Notebook. Al deze waarden tonen zou teveel ruimte innemen.\n",
    "</div>\n"
   ]
  },
  {
   "attachments": {},
   "cell_type": "markdown",
   "id": "53bac317",
   "metadata": {},
   "source": [
    "<div style=\"background-color:#000065\"> \n",
    "Het elimineren van de kleur is in het geval van vormdetectie geen probleem. In andere gevallen kan dit wel nadelig zijn. Het is dus belangrijk om op voorhand hierover na te denken. Bij objectherkenning geven kleuren je veel extra informatie. Deze weggooien zal het algoritme slechter doen werken.\n",
    "</div>"
   ]
  },
  {
   "cell_type": "markdown",
   "id": "8e025a65",
   "metadata": {},
   "source": [
    "### 4.4 Drempelwaarde instellen"
   ]
  },
  {
   "cell_type": "markdown",
   "id": "4df480f4",
   "metadata": {},
   "source": [
    "Het verschil tussen achter- & voorgrond is voor ons duidelijk. Voor de computer is dit echter nog niet het geval. Er mag geen onzekerheid zijn voor de computer. Merk echter op dat de pixels aan de rand van de driehoek lichter van kleur zijn...\n",
    "\n",
    "We moeten ervoor zorgen dat alle pixels op de achtergrond wit zijn, en alle van de driehoek zwart. We zullen hiervoor een `drempelwaarde (of threshold)` instellen via de functie **threshold**.\n",
    "- Alle pixels onder deze drempel krijgen een nieuwe waarde 0 (**zwart**). \n",
    "- Alle pixels boven deze drempel krijgen een nieuwe waarde 255 (**wit**)."
   ]
  },
  {
   "cell_type": "markdown",
   "id": "27c67cd5",
   "metadata": {},
   "source": [
    "#### Oefen mee 4.3"
   ]
  },
  {
   "cell_type": "markdown",
   "id": "73eb71e7",
   "metadata": {},
   "source": [
    "Run de code hieronder, je ziet nu in de matrix duidelijk de driehoek staan. Alle pixels van de driehoek hebben namelijk als waarde 0 (**zwart**). De achtergrond is volledig 255 (**wit**)\n",
    "\n",
    "- Zal de driehoek groter of kleiner worden als ... (eerst antwoorden, dan controleren) <div style=\"background-color:#008000\"> \n",
    "    - een drempelwaarde van 75 is ingesteld: Kleiner\n",
    "    - een drempelwaarde van 230 is ingesteld: Groter \n",
    "- Stel de drempelwaarde terug in op 127.\n",
    "</div>"
   ]
  },
  {
   "cell_type": "code",
   "execution_count": 15,
   "id": "e7b09091",
   "metadata": {},
   "outputs": [
    {
     "data": {
      "image/png": "[encoded data removed]",
      "text/plain": [
       "<Figure size 640x480 with 1 Axes>"
      ]
     },
     "metadata": {},
     "output_type": "display_data"
    },
    {
     "name": "stdout",
     "output_type": "stream",
     "text": [
      "[[255 255 255 255 255 255 255 255 255 255 255 255 255 255 255]\n",
      " [255 255 255 255 255 255 255 255 255 255 255 255 255 255 255]\n",
      " [255 255 255 255 255 255 255 255 255 255 255 255 255 255 255]\n",
      " [255 255 255 255 255 255 255   0 255 255 255 255 255 255 255]\n",
      " [255 255 255 255 255 255   0   0   0 255 255 255 255 255 255]\n",
      " [255 255 255 255 255   0   0   0   0   0 255 255 255 255 255]\n",
      " [255 255 255 255   0   0   0   0   0   0   0 255 255 255 255]\n",
      " [255 255 255   0   0   0   0   0   0   0   0   0 255 255 255]\n",
      " [255 255   0   0   0   0   0   0   0   0   0   0   0 255 255]\n",
      " [255   0   0   0   0   0   0   0   0   0   0   0   0   0 255]\n",
      " [  0   0   0   0   0   0   0   0   0   0   0   0   0   0   0]\n",
      " [255 255 255 255 255 255 255 255 255 255 255 255 255 255 255]]\n"
     ]
    }
   ],
   "source": [
    "# Afbeelding inladen (met grijswaarden).\n",
    "driehoek = cv2.imread(r\"../_afbeeldingen/driehoek.jpg\")\n",
    "driehoek_grijs = cv2.cvtColor(driehoek, cv2.COLOR_BGR2GRAY)\n",
    "\n",
    "# Drempel gebruiken om driehoek & achtergrond volledig te scheiden.\n",
    "# Alle pixels kleiner dan 127 worden 0, groter dan 127 worden 255.\n",
    "_, driehoek_drempel = cv2.threshold(driehoek_grijs, 127, 255, cv2.THRESH_BINARY)\n",
    "\n",
    "# Afbeelding & pixelwaarden tonen.\n",
    "plt_imshow(\"grijsafbeelding met drempel\", driehoek_drempel)\n",
    "print(driehoek_drempel)"
   ]
  },
  {
   "attachments": {},
   "cell_type": "markdown",
   "id": "4fc6689e",
   "metadata": {},
   "source": [
    "#### Oefen mee 4.4"
   ]
  },
  {
   "cell_type": "markdown",
   "id": "13f99cfd",
   "metadata": {},
   "source": [
    "Schrijf nu zelf een stukje code die de afbeelding `vormen.png` omzet naar grijswaarden en er vervolgens een drempelwaarde op toepast. Maak hiervoor gebruik van de voorgaande codeblokken.\n",
    "\n",
    "<div style=\"background-color:#8B0000\"> \n",
    "De matrix met pixel-waarden kan niet volledig geprint worden. Baseer je dus op de afbeelding om een correcte drempelwaarde in te stellen.\n",
    "</div>"
   ]
  },
  {
   "cell_type": "code",
   "execution_count": 22,
   "id": "3d3be416",
   "metadata": {},
   "outputs": [
    {
     "data": {
      "image/png": "[encoded data removed]",
      "text/plain": [
       "<Figure size 640x480 with 1 Axes>"
      ]
     },
     "metadata": {},
     "output_type": "display_data"
    }
   ],
   "source": [
    "# pad naar vormen.png: r\"../_afbeeldingen/vormen.png\"\n",
    "# Afbeelding inladen.\n",
    "afbeelding = cv2.imread(r\"../_afbeeldingen/vormen.png\")\n",
    "afbeelding_grey = cv2.cvtColor(afbeelding, cv2.COLOR_BGR2GRAY)\n",
    "\n",
    "# Drempel gebruiken om driehoek & achtergrond volledig te scheiden.\n",
    "# Alle pixels kleiner dan 127 worden 0, groter dan 127 worden 255.\n",
    "_, afbeelding_drempel = cv2.threshold(afbeelding_grey, 127, 255, cv2.THRESH_BINARY)\n",
    "\n",
    "# Afbeelding tonen.\n",
    "plt_imshow(\"Vormen\", afbeelding_drempel)"
   ]
  },
  {
   "attachments": {},
   "cell_type": "markdown",
   "id": "e3cc0db4",
   "metadata": {},
   "source": [
    "### 4.5 Contouren uit afbeelding halen"
   ]
  },
  {
   "cell_type": "markdown",
   "id": "2eedd30f",
   "metadata": {},
   "source": [
    "In de voorgaande stap hebben we de voorgrond (de vormen) duidelijk gescheiden van de achtergrond. De computer kan nu de contour (= rand) van iedere vorm op de afbeelding bepalen. Hiervoor wordt de functie `findcontours` gebruikt."
   ]
  },
  {
   "cell_type": "markdown",
   "id": "0f915406",
   "metadata": {},
   "source": [
    "#### Oefen mee 4.5"
   ]
  },
  {
   "cell_type": "markdown",
   "id": "b5c33be6",
   "metadata": {},
   "source": [
    "Onderstaande code zoekt de contouren in de verwerkte `driehoek.jpg`. Onderaan wordt het aantal gevonden contouren geprint.\n",
    "\n",
    "- Maak de TODO in de code af.\n",
    "- Het programma vindt 2 contouren.  <div style=\"background-color:#008000\"> \n",
    "    - Welke zijn dit?  zwart en wit \n",
    "</div>\n",
    "\n",
    "- Pas de code aan zodat deze de contouren van `vormen.png` bepaald. Doe dit in de tweede code-cel! <div style=\"background-color:#008000\"> \n",
    "    Hoeveel zijn dit er?  2 \n",
    "</div>"
   ]
  },
  {
   "cell_type": "code",
   "execution_count": 23,
   "id": "00e1c055",
   "metadata": {},
   "outputs": [
    {
     "name": "stdout",
     "output_type": "stream",
     "text": [
      "Aantal contouren: 2\n",
      "(array([[[ 0, 11]],\n",
      "\n",
      "       [[14, 11]]], dtype=int32), array([[[ 0,  0]],\n",
      "\n",
      "       [[ 0,  9]],\n",
      "\n",
      "       [[ 7,  2]],\n",
      "\n",
      "       [[14,  9]],\n",
      "\n",
      "       [[14,  0]]], dtype=int32))\n"
     ]
    }
   ],
   "source": [
    "# TODO: stel driehoek_drempel op. Gebruik hiervoor code uit de vorige oefen mee.\n",
    "\n",
    "\n",
    "# Bepaal contouren van (verwerkte) afbeelding.\n",
    "contouren, _ = cv2.findContours(driehoek_drempel, cv2.RETR_TREE, cv2.CHAIN_APPROX_SIMPLE)  \n",
    "# Print aantal gevonden contouren.\n",
    "print(f\"Aantal contouren: {len(contouren)}\")\n",
    "print(contouren)"
   ]
  },
  {
   "cell_type": "code",
   "execution_count": 30,
   "id": "a4669a28",
   "metadata": {},
   "outputs": [
    {
     "data": {
      "image/png": "[encoded data removed]",
      "text/plain": [
       "<Figure size 640x480 with 1 Axes>"
      ]
     },
     "metadata": {},
     "output_type": "display_data"
    },
    {
     "name": "stdout",
     "output_type": "stream",
     "text": [
      "Aantal contouren: 5\n",
      "(array([[[  0,   0]],\n",
      "\n",
      "       [[  0, 278]],\n",
      "\n",
      "       [[399, 278]],\n",
      "\n",
      "       [[399,   0]],\n",
      "\n",
      "       [[188,   0]],\n",
      "\n",
      "       [[187,   1]],\n",
      "\n",
      "       [[186,   1]],\n",
      "\n",
      "       [[185,   0]]], dtype=int32), array([[[113, 152]],\n",
      "\n",
      "       [[114, 152]],\n",
      "\n",
      "       [[115, 153]],\n",
      "\n",
      "       [[218, 153]],\n",
      "\n",
      "       [[219, 154]],\n",
      "\n",
      "       [[218, 155]],\n",
      "\n",
      "       [[218, 156]],\n",
      "\n",
      "       [[217, 157]],\n",
      "\n",
      "       [[217, 158]],\n",
      "\n",
      "       [[216, 159]],\n",
      "\n",
      "       [[216, 160]],\n",
      "\n",
      "       [[215, 161]],\n",
      "\n",
      "       [[215, 162]],\n",
      "\n",
      "       [[214, 163]],\n",
      "\n",
      "       [[214, 165]],\n",
      "\n",
      "       [[213, 166]],\n",
      "\n",
      "       [[213, 167]],\n",
      "\n",
      "       [[212, 168]],\n",
      "\n",
      "       [[212, 169]],\n",
      "\n",
      "       [[211, 170]],\n",
      "\n",
      "       [[211, 171]],\n",
      "\n",
      "       [[210, 172]],\n",
      "\n",
      "       [[210, 173]],\n",
      "\n",
      "       [[209, 174]],\n",
      "\n",
      "       [[209, 175]],\n",
      "\n",
      "       [[208, 176]],\n",
      "\n",
      "       [[208, 177]],\n",
      "\n",
      "       [[207, 178]],\n",
      "\n",
      "       [[207, 179]],\n",
      "\n",
      "       [[206, 180]],\n",
      "\n",
      "       [[206, 181]],\n",
      "\n",
      "       [[205, 182]],\n",
      "\n",
      "       [[205, 183]],\n",
      "\n",
      "       [[204, 184]],\n",
      "\n",
      "       [[204, 186]],\n",
      "\n",
      "       [[203, 187]],\n",
      "\n",
      "       [[203, 188]],\n",
      "\n",
      "       [[202, 189]],\n",
      "\n",
      "       [[202, 190]],\n",
      "\n",
      "       [[201, 191]],\n",
      "\n",
      "       [[201, 192]],\n",
      "\n",
      "       [[200, 193]],\n",
      "\n",
      "       [[200, 194]],\n",
      "\n",
      "       [[199, 195]],\n",
      "\n",
      "       [[199, 196]],\n",
      "\n",
      "       [[198, 197]],\n",
      "\n",
      "       [[198, 198]],\n",
      "\n",
      "       [[197, 199]],\n",
      "\n",
      "       [[197, 200]],\n",
      "\n",
      "       [[196, 201]],\n",
      "\n",
      "       [[196, 202]],\n",
      "\n",
      "       [[195, 203]],\n",
      "\n",
      "       [[195, 204]],\n",
      "\n",
      "       [[194, 205]],\n",
      "\n",
      "       [[194, 207]],\n",
      "\n",
      "       [[193, 208]],\n",
      "\n",
      "       [[193, 209]],\n",
      "\n",
      "       [[192, 210]],\n",
      "\n",
      "       [[192, 211]],\n",
      "\n",
      "       [[191, 212]],\n",
      "\n",
      "       [[191, 213]],\n",
      "\n",
      "       [[190, 214]],\n",
      "\n",
      "       [[190, 215]],\n",
      "\n",
      "       [[189, 216]],\n",
      "\n",
      "       [[189, 217]],\n",
      "\n",
      "       [[188, 218]],\n",
      "\n",
      "       [[188, 219]],\n",
      "\n",
      "       [[187, 220]],\n",
      "\n",
      "       [[187, 221]],\n",
      "\n",
      "       [[186, 222]],\n",
      "\n",
      "       [[186, 223]],\n",
      "\n",
      "       [[185, 224]],\n",
      "\n",
      "       [[185, 225]],\n",
      "\n",
      "       [[184, 226]],\n",
      "\n",
      "       [[184, 228]],\n",
      "\n",
      "       [[183, 229]],\n",
      "\n",
      "       [[183, 230]],\n",
      "\n",
      "       [[182, 231]],\n",
      "\n",
      "       [[182, 232]],\n",
      "\n",
      "       [[181, 233]],\n",
      "\n",
      "       [[181, 234]],\n",
      "\n",
      "       [[180, 235]],\n",
      "\n",
      "       [[180, 236]],\n",
      "\n",
      "       [[179, 237]],\n",
      "\n",
      "       [[179, 238]],\n",
      "\n",
      "       [[178, 239]],\n",
      "\n",
      "       [[178, 240]],\n",
      "\n",
      "       [[177, 241]],\n",
      "\n",
      "       [[177, 242]],\n",
      "\n",
      "       [[176, 243]],\n",
      "\n",
      "       [[176, 244]],\n",
      "\n",
      "       [[175, 245]],\n",
      "\n",
      "       [[175, 246]],\n",
      "\n",
      "       [[174, 247]],\n",
      "\n",
      "       [[174, 249]],\n",
      "\n",
      "       [[173, 250]],\n",
      "\n",
      "       [[ 67, 250]],\n",
      "\n",
      "       [[ 66, 249]],\n",
      "\n",
      "       [[ 66, 248]],\n",
      "\n",
      "       [[ 67, 247]],\n",
      "\n",
      "       [[ 67, 246]],\n",
      "\n",
      "       [[ 68, 245]],\n",
      "\n",
      "       [[ 68, 244]],\n",
      "\n",
      "       [[ 69, 243]],\n",
      "\n",
      "       [[ 69, 242]],\n",
      "\n",
      "       [[ 70, 241]],\n",
      "\n",
      "       [[ 70, 240]],\n",
      "\n",
      "       [[ 71, 239]],\n",
      "\n",
      "       [[ 71, 238]],\n",
      "\n",
      "       [[ 72, 237]],\n",
      "\n",
      "       [[ 72, 235]],\n",
      "\n",
      "       [[ 73, 234]],\n",
      "\n",
      "       [[ 73, 233]],\n",
      "\n",
      "       [[ 75, 231]],\n",
      "\n",
      "       [[ 75, 230]],\n",
      "\n",
      "       [[ 76, 229]],\n",
      "\n",
      "       [[ 76, 227]],\n",
      "\n",
      "       [[ 77, 226]],\n",
      "\n",
      "       [[ 77, 225]],\n",
      "\n",
      "       [[ 78, 224]],\n",
      "\n",
      "       [[ 78, 223]],\n",
      "\n",
      "       [[ 79, 222]],\n",
      "\n",
      "       [[ 79, 221]],\n",
      "\n",
      "       [[ 80, 220]],\n",
      "\n",
      "       [[ 80, 219]],\n",
      "\n",
      "       [[ 81, 218]],\n",
      "\n",
      "       [[ 81, 217]],\n",
      "\n",
      "       [[ 82, 216]],\n",
      "\n",
      "       [[ 82, 214]],\n",
      "\n",
      "       [[ 83, 213]],\n",
      "\n",
      "       [[ 83, 212]],\n",
      "\n",
      "       [[ 85, 210]],\n",
      "\n",
      "       [[ 85, 208]],\n",
      "\n",
      "       [[ 86, 207]],\n",
      "\n",
      "       [[ 86, 206]],\n",
      "\n",
      "       [[ 87, 205]],\n",
      "\n",
      "       [[ 87, 204]],\n",
      "\n",
      "       [[ 88, 203]],\n",
      "\n",
      "       [[ 88, 202]],\n",
      "\n",
      "       [[ 89, 201]],\n",
      "\n",
      "       [[ 89, 200]],\n",
      "\n",
      "       [[ 90, 199]],\n",
      "\n",
      "       [[ 90, 198]],\n",
      "\n",
      "       [[ 91, 197]],\n",
      "\n",
      "       [[ 91, 196]],\n",
      "\n",
      "       [[ 92, 195]],\n",
      "\n",
      "       [[ 92, 193]],\n",
      "\n",
      "       [[ 93, 192]],\n",
      "\n",
      "       [[ 93, 191]],\n",
      "\n",
      "       [[ 95, 189]],\n",
      "\n",
      "       [[ 95, 187]],\n",
      "\n",
      "       [[ 96, 186]],\n",
      "\n",
      "       [[ 96, 185]],\n",
      "\n",
      "       [[ 97, 184]],\n",
      "\n",
      "       [[ 97, 183]],\n",
      "\n",
      "       [[ 98, 182]],\n",
      "\n",
      "       [[ 98, 181]],\n",
      "\n",
      "       [[ 99, 180]],\n",
      "\n",
      "       [[ 99, 179]],\n",
      "\n",
      "       [[100, 178]],\n",
      "\n",
      "       [[100, 177]],\n",
      "\n",
      "       [[101, 176]],\n",
      "\n",
      "       [[101, 175]],\n",
      "\n",
      "       [[102, 174]],\n",
      "\n",
      "       [[102, 172]],\n",
      "\n",
      "       [[103, 171]],\n",
      "\n",
      "       [[103, 170]],\n",
      "\n",
      "       [[104, 169]],\n",
      "\n",
      "       [[104, 168]],\n",
      "\n",
      "       [[105, 167]],\n",
      "\n",
      "       [[105, 166]],\n",
      "\n",
      "       [[106, 165]],\n",
      "\n",
      "       [[106, 164]],\n",
      "\n",
      "       [[107, 163]],\n",
      "\n",
      "       [[107, 162]],\n",
      "\n",
      "       [[108, 161]],\n",
      "\n",
      "       [[108, 160]],\n",
      "\n",
      "       [[109, 159]],\n",
      "\n",
      "       [[109, 158]],\n",
      "\n",
      "       [[110, 157]],\n",
      "\n",
      "       [[110, 156]],\n",
      "\n",
      "       [[111, 155]],\n",
      "\n",
      "       [[111, 154]]], dtype=int32), array([[[309,  77]],\n",
      "\n",
      "       [[346,  77]],\n",
      "\n",
      "       [[350,  81]],\n",
      "\n",
      "       [[350,  82]],\n",
      "\n",
      "       [[351,  83]],\n",
      "\n",
      "       [[351,  84]],\n",
      "\n",
      "       [[353,  86]],\n",
      "\n",
      "       [[353,  87]],\n",
      "\n",
      "       [[354,  88]],\n",
      "\n",
      "       [[354,  89]],\n",
      "\n",
      "       [[355,  90]],\n",
      "\n",
      "       [[355,  91]],\n",
      "\n",
      "       [[357,  93]],\n",
      "\n",
      "       [[357,  94]],\n",
      "\n",
      "       [[359,  96]],\n",
      "\n",
      "       [[359,  97]],\n",
      "\n",
      "       [[360,  98]],\n",
      "\n",
      "       [[360,  99]],\n",
      "\n",
      "       [[361, 100]],\n",
      "\n",
      "       [[361, 101]],\n",
      "\n",
      "       [[363, 103]],\n",
      "\n",
      "       [[363, 104]],\n",
      "\n",
      "       [[364, 105]],\n",
      "\n",
      "       [[364, 106]],\n",
      "\n",
      "       [[366, 108]],\n",
      "\n",
      "       [[366, 109]],\n",
      "\n",
      "       [[367, 110]],\n",
      "\n",
      "       [[367, 113]],\n",
      "\n",
      "       [[366, 114]],\n",
      "\n",
      "       [[366, 115]],\n",
      "\n",
      "       [[365, 116]],\n",
      "\n",
      "       [[365, 117]],\n",
      "\n",
      "       [[364, 118]],\n",
      "\n",
      "       [[364, 119]],\n",
      "\n",
      "       [[362, 121]],\n",
      "\n",
      "       [[362, 122]],\n",
      "\n",
      "       [[361, 123]],\n",
      "\n",
      "       [[361, 124]],\n",
      "\n",
      "       [[360, 125]],\n",
      "\n",
      "       [[360, 126]],\n",
      "\n",
      "       [[359, 127]],\n",
      "\n",
      "       [[359, 128]],\n",
      "\n",
      "       [[357, 130]],\n",
      "\n",
      "       [[357, 131]],\n",
      "\n",
      "       [[356, 132]],\n",
      "\n",
      "       [[356, 133]],\n",
      "\n",
      "       [[355, 134]],\n",
      "\n",
      "       [[355, 135]],\n",
      "\n",
      "       [[354, 136]],\n",
      "\n",
      "       [[354, 137]],\n",
      "\n",
      "       [[352, 139]],\n",
      "\n",
      "       [[352, 140]],\n",
      "\n",
      "       [[351, 141]],\n",
      "\n",
      "       [[351, 142]],\n",
      "\n",
      "       [[350, 143]],\n",
      "\n",
      "       [[350, 144]],\n",
      "\n",
      "       [[348, 146]],\n",
      "\n",
      "       [[310, 146]],\n",
      "\n",
      "       [[307, 143]],\n",
      "\n",
      "       [[307, 142]],\n",
      "\n",
      "       [[306, 141]],\n",
      "\n",
      "       [[306, 140]],\n",
      "\n",
      "       [[304, 138]],\n",
      "\n",
      "       [[304, 137]],\n",
      "\n",
      "       [[303, 136]],\n",
      "\n",
      "       [[303, 135]],\n",
      "\n",
      "       [[302, 134]],\n",
      "\n",
      "       [[302, 133]],\n",
      "\n",
      "       [[300, 131]],\n",
      "\n",
      "       [[300, 130]],\n",
      "\n",
      "       [[298, 128]],\n",
      "\n",
      "       [[298, 127]],\n",
      "\n",
      "       [[297, 126]],\n",
      "\n",
      "       [[297, 125]],\n",
      "\n",
      "       [[296, 124]],\n",
      "\n",
      "       [[296, 123]],\n",
      "\n",
      "       [[294, 121]],\n",
      "\n",
      "       [[294, 120]],\n",
      "\n",
      "       [[293, 119]],\n",
      "\n",
      "       [[293, 118]],\n",
      "\n",
      "       [[291, 116]],\n",
      "\n",
      "       [[291, 115]],\n",
      "\n",
      "       [[290, 114]],\n",
      "\n",
      "       [[290, 113]],\n",
      "\n",
      "       [[289, 112]],\n",
      "\n",
      "       [[289, 110]],\n",
      "\n",
      "       [[291, 108]],\n",
      "\n",
      "       [[291, 107]],\n",
      "\n",
      "       [[292, 106]],\n",
      "\n",
      "       [[292, 105]],\n",
      "\n",
      "       [[293, 104]],\n",
      "\n",
      "       [[293, 103]],\n",
      "\n",
      "       [[295, 101]],\n",
      "\n",
      "       [[295, 100]],\n",
      "\n",
      "       [[296,  99]],\n",
      "\n",
      "       [[296,  98]],\n",
      "\n",
      "       [[297,  97]],\n",
      "\n",
      "       [[297,  96]],\n",
      "\n",
      "       [[298,  95]],\n",
      "\n",
      "       [[298,  94]],\n",
      "\n",
      "       [[300,  92]],\n",
      "\n",
      "       [[300,  91]],\n",
      "\n",
      "       [[301,  90]],\n",
      "\n",
      "       [[301,  89]],\n",
      "\n",
      "       [[302,  88]],\n",
      "\n",
      "       [[302,  87]],\n",
      "\n",
      "       [[303,  86]],\n",
      "\n",
      "       [[303,  85]],\n",
      "\n",
      "       [[305,  83]],\n",
      "\n",
      "       [[305,  82]],\n",
      "\n",
      "       [[306,  81]],\n",
      "\n",
      "       [[306,  80]]], dtype=int32), array([[[199,  39]],\n",
      "\n",
      "       [[200,  38]],\n",
      "\n",
      "       [[209,  38]],\n",
      "\n",
      "       [[210,  39]],\n",
      "\n",
      "       [[215,  39]],\n",
      "\n",
      "       [[216,  40]],\n",
      "\n",
      "       [[219,  40]],\n",
      "\n",
      "       [[220,  41]],\n",
      "\n",
      "       [[222,  41]],\n",
      "\n",
      "       [[223,  42]],\n",
      "\n",
      "       [[224,  42]],\n",
      "\n",
      "       [[225,  43]],\n",
      "\n",
      "       [[226,  43]],\n",
      "\n",
      "       [[227,  44]],\n",
      "\n",
      "       [[228,  44]],\n",
      "\n",
      "       [[230,  46]],\n",
      "\n",
      "       [[231,  46]],\n",
      "\n",
      "       [[234,  49]],\n",
      "\n",
      "       [[235,  49]],\n",
      "\n",
      "       [[241,  55]],\n",
      "\n",
      "       [[241,  56]],\n",
      "\n",
      "       [[244,  59]],\n",
      "\n",
      "       [[244,  60]],\n",
      "\n",
      "       [[245,  61]],\n",
      "\n",
      "       [[245,  62]],\n",
      "\n",
      "       [[247,  64]],\n",
      "\n",
      "       [[247,  65]],\n",
      "\n",
      "       [[248,  66]],\n",
      "\n",
      "       [[248,  67]],\n",
      "\n",
      "       [[249,  68]],\n",
      "\n",
      "       [[249,  70]],\n",
      "\n",
      "       [[250,  71]],\n",
      "\n",
      "       [[250,  74]],\n",
      "\n",
      "       [[251,  75]],\n",
      "\n",
      "       [[251,  79]],\n",
      "\n",
      "       [[252,  80]],\n",
      "\n",
      "       [[252,  92]],\n",
      "\n",
      "       [[251,  93]],\n",
      "\n",
      "       [[251,  96]],\n",
      "\n",
      "       [[250,  97]],\n",
      "\n",
      "       [[250, 100]],\n",
      "\n",
      "       [[249, 101]],\n",
      "\n",
      "       [[249, 103]],\n",
      "\n",
      "       [[248, 104]],\n",
      "\n",
      "       [[248, 105]],\n",
      "\n",
      "       [[247, 106]],\n",
      "\n",
      "       [[247, 107]],\n",
      "\n",
      "       [[246, 108]],\n",
      "\n",
      "       [[246, 109]],\n",
      "\n",
      "       [[244, 111]],\n",
      "\n",
      "       [[244, 112]],\n",
      "\n",
      "       [[243, 113]],\n",
      "\n",
      "       [[243, 114]],\n",
      "\n",
      "       [[233, 124]],\n",
      "\n",
      "       [[232, 124]],\n",
      "\n",
      "       [[230, 126]],\n",
      "\n",
      "       [[229, 126]],\n",
      "\n",
      "       [[228, 127]],\n",
      "\n",
      "       [[227, 127]],\n",
      "\n",
      "       [[226, 128]],\n",
      "\n",
      "       [[225, 128]],\n",
      "\n",
      "       [[224, 129]],\n",
      "\n",
      "       [[223, 129]],\n",
      "\n",
      "       [[222, 130]],\n",
      "\n",
      "       [[221, 130]],\n",
      "\n",
      "       [[220, 131]],\n",
      "\n",
      "       [[217, 131]],\n",
      "\n",
      "       [[216, 132]],\n",
      "\n",
      "       [[212, 132]],\n",
      "\n",
      "       [[211, 133]],\n",
      "\n",
      "       [[198, 133]],\n",
      "\n",
      "       [[197, 132]],\n",
      "\n",
      "       [[193, 132]],\n",
      "\n",
      "       [[192, 131]],\n",
      "\n",
      "       [[190, 131]],\n",
      "\n",
      "       [[189, 130]],\n",
      "\n",
      "       [[187, 130]],\n",
      "\n",
      "       [[186, 129]],\n",
      "\n",
      "       [[185, 129]],\n",
      "\n",
      "       [[184, 128]],\n",
      "\n",
      "       [[183, 128]],\n",
      "\n",
      "       [[182, 127]],\n",
      "\n",
      "       [[181, 127]],\n",
      "\n",
      "       [[180, 126]],\n",
      "\n",
      "       [[179, 126]],\n",
      "\n",
      "       [[176, 123]],\n",
      "\n",
      "       [[175, 123]],\n",
      "\n",
      "       [[167, 115]],\n",
      "\n",
      "       [[167, 114]],\n",
      "\n",
      "       [[165, 112]],\n",
      "\n",
      "       [[165, 111]],\n",
      "\n",
      "       [[163, 109]],\n",
      "\n",
      "       [[163, 108]],\n",
      "\n",
      "       [[162, 107]],\n",
      "\n",
      "       [[162, 106]],\n",
      "\n",
      "       [[161, 105]],\n",
      "\n",
      "       [[161, 103]],\n",
      "\n",
      "       [[160, 102]],\n",
      "\n",
      "       [[160, 101]],\n",
      "\n",
      "       [[159, 100]],\n",
      "\n",
      "       [[159,  98]],\n",
      "\n",
      "       [[158,  97]],\n",
      "\n",
      "       [[158,  92]],\n",
      "\n",
      "       [[157,  91]],\n",
      "\n",
      "       [[157,  81]],\n",
      "\n",
      "       [[158,  80]],\n",
      "\n",
      "       [[158,  75]],\n",
      "\n",
      "       [[159,  74]],\n",
      "\n",
      "       [[159,  71]],\n",
      "\n",
      "       [[160,  70]],\n",
      "\n",
      "       [[160,  69]],\n",
      "\n",
      "       [[161,  68]],\n",
      "\n",
      "       [[161,  67]],\n",
      "\n",
      "       [[162,  66]],\n",
      "\n",
      "       [[162,  64]],\n",
      "\n",
      "       [[163,  63]],\n",
      "\n",
      "       [[163,  62]],\n",
      "\n",
      "       [[166,  59]],\n",
      "\n",
      "       [[166,  58]],\n",
      "\n",
      "       [[168,  56]],\n",
      "\n",
      "       [[168,  55]],\n",
      "\n",
      "       [[174,  49]],\n",
      "\n",
      "       [[175,  49]],\n",
      "\n",
      "       [[178,  46]],\n",
      "\n",
      "       [[179,  46]],\n",
      "\n",
      "       [[180,  45]],\n",
      "\n",
      "       [[181,  45]],\n",
      "\n",
      "       [[182,  44]],\n",
      "\n",
      "       [[183,  44]],\n",
      "\n",
      "       [[185,  42]],\n",
      "\n",
      "       [[186,  42]],\n",
      "\n",
      "       [[187,  41]],\n",
      "\n",
      "       [[189,  41]],\n",
      "\n",
      "       [[190,  40]],\n",
      "\n",
      "       [[193,  40]],\n",
      "\n",
      "       [[194,  39]]], dtype=int32), array([[[ 72,  10]],\n",
      "\n",
      "       [[ 73,   9]],\n",
      "\n",
      "       [[ 74,   9]],\n",
      "\n",
      "       [[ 75,  10]],\n",
      "\n",
      "       [[ 75,  11]],\n",
      "\n",
      "       [[ 77,  13]],\n",
      "\n",
      "       [[ 77,  14]],\n",
      "\n",
      "       [[ 79,  16]],\n",
      "\n",
      "       [[ 79,  17]],\n",
      "\n",
      "       [[ 80,  18]],\n",
      "\n",
      "       [[ 80,  19]],\n",
      "\n",
      "       [[ 82,  21]],\n",
      "\n",
      "       [[ 82,  22]],\n",
      "\n",
      "       [[ 83,  23]],\n",
      "\n",
      "       [[ 83,  24]],\n",
      "\n",
      "       [[ 85,  26]],\n",
      "\n",
      "       [[ 85,  27]],\n",
      "\n",
      "       [[ 86,  28]],\n",
      "\n",
      "       [[ 86,  29]],\n",
      "\n",
      "       [[ 88,  31]],\n",
      "\n",
      "       [[ 88,  32]],\n",
      "\n",
      "       [[ 89,  33]],\n",
      "\n",
      "       [[ 89,  34]],\n",
      "\n",
      "       [[ 91,  36]],\n",
      "\n",
      "       [[ 91,  37]],\n",
      "\n",
      "       [[ 93,  39]],\n",
      "\n",
      "       [[ 93,  40]],\n",
      "\n",
      "       [[ 94,  41]],\n",
      "\n",
      "       [[ 94,  42]],\n",
      "\n",
      "       [[ 96,  44]],\n",
      "\n",
      "       [[ 96,  45]],\n",
      "\n",
      "       [[ 98,  47]],\n",
      "\n",
      "       [[ 98,  48]],\n",
      "\n",
      "       [[ 99,  49]],\n",
      "\n",
      "       [[ 99,  50]],\n",
      "\n",
      "       [[101,  52]],\n",
      "\n",
      "       [[101,  53]],\n",
      "\n",
      "       [[103,  55]],\n",
      "\n",
      "       [[103,  56]],\n",
      "\n",
      "       [[104,  57]],\n",
      "\n",
      "       [[104,  58]],\n",
      "\n",
      "       [[105,  59]],\n",
      "\n",
      "       [[105,  60]],\n",
      "\n",
      "       [[107,  62]],\n",
      "\n",
      "       [[107,  63]],\n",
      "\n",
      "       [[109,  65]],\n",
      "\n",
      "       [[109,  66]],\n",
      "\n",
      "       [[110,  67]],\n",
      "\n",
      "       [[110,  68]],\n",
      "\n",
      "       [[112,  70]],\n",
      "\n",
      "       [[112,  71]],\n",
      "\n",
      "       [[113,  72]],\n",
      "\n",
      "       [[113,  73]],\n",
      "\n",
      "       [[115,  75]],\n",
      "\n",
      "       [[115,  76]],\n",
      "\n",
      "       [[116,  77]],\n",
      "\n",
      "       [[115,  78]],\n",
      "\n",
      "       [[ 32,  78]],\n",
      "\n",
      "       [[ 31,  77]],\n",
      "\n",
      "       [[ 32,  76]],\n",
      "\n",
      "       [[ 32,  75]],\n",
      "\n",
      "       [[ 33,  74]],\n",
      "\n",
      "       [[ 33,  73]],\n",
      "\n",
      "       [[ 35,  71]],\n",
      "\n",
      "       [[ 35,  70]],\n",
      "\n",
      "       [[ 37,  68]],\n",
      "\n",
      "       [[ 37,  67]],\n",
      "\n",
      "       [[ 38,  66]],\n",
      "\n",
      "       [[ 38,  65]],\n",
      "\n",
      "       [[ 40,  63]],\n",
      "\n",
      "       [[ 40,  62]],\n",
      "\n",
      "       [[ 41,  61]],\n",
      "\n",
      "       [[ 41,  60]],\n",
      "\n",
      "       [[ 43,  58]],\n",
      "\n",
      "       [[ 43,  57]],\n",
      "\n",
      "       [[ 45,  55]],\n",
      "\n",
      "       [[ 45,  54]],\n",
      "\n",
      "       [[ 46,  53]],\n",
      "\n",
      "       [[ 46,  52]],\n",
      "\n",
      "       [[ 48,  50]],\n",
      "\n",
      "       [[ 48,  49]],\n",
      "\n",
      "       [[ 50,  47]],\n",
      "\n",
      "       [[ 50,  46]],\n",
      "\n",
      "       [[ 51,  45]],\n",
      "\n",
      "       [[ 51,  44]],\n",
      "\n",
      "       [[ 52,  43]],\n",
      "\n",
      "       [[ 52,  42]],\n",
      "\n",
      "       [[ 54,  40]],\n",
      "\n",
      "       [[ 54,  39]],\n",
      "\n",
      "       [[ 56,  37]],\n",
      "\n",
      "       [[ 56,  36]],\n",
      "\n",
      "       [[ 57,  35]],\n",
      "\n",
      "       [[ 57,  34]],\n",
      "\n",
      "       [[ 59,  32]],\n",
      "\n",
      "       [[ 59,  31]],\n",
      "\n",
      "       [[ 61,  29]],\n",
      "\n",
      "       [[ 61,  28]],\n",
      "\n",
      "       [[ 62,  27]],\n",
      "\n",
      "       [[ 62,  26]],\n",
      "\n",
      "       [[ 64,  24]],\n",
      "\n",
      "       [[ 64,  23]],\n",
      "\n",
      "       [[ 65,  22]],\n",
      "\n",
      "       [[ 65,  21]],\n",
      "\n",
      "       [[ 67,  19]],\n",
      "\n",
      "       [[ 67,  18]],\n",
      "\n",
      "       [[ 68,  17]],\n",
      "\n",
      "       [[ 68,  16]],\n",
      "\n",
      "       [[ 70,  14]],\n",
      "\n",
      "       [[ 70,  13]],\n",
      "\n",
      "       [[ 72,  11]]], dtype=int32))\n"
     ]
    }
   ],
   "source": [
    "# TODO: detecteer hier het aantal contouren op afbeeldingen 'vormen.png'.\n",
    "# pad naar vormen.png: r\"../_afbeeldingen/vormen.png\"\n",
    "afbeelding = cv2.imread(r\"../_afbeeldingen/vormen.png\")\n",
    "afbeelding_grey = cv2.cvtColor(afbeelding, cv2.COLOR_BGR2GRAY)\n",
    "\n",
    "# Drempel gebruiken om driehoek & achtergrond volledig te scheiden.\n",
    "# Alle pixels kleiner dan 127 worden 0, groter dan 127 worden 255.\n",
    "_, afbeelding_drempel = cv2.threshold(afbeelding_grey, 127, 255, cv2.THRESH_BINARY)\n",
    "\n",
    "# Afbeelding tonen.\n",
    "plt_imshow(\"Vormen\", afbeelding_drempel)\n",
    "\n",
    "# Bepaal contouren van (verwerkte) afbeelding.\n",
    "contouren, _ = cv2.findContours(afbeelding_drempel, cv2.RETR_TREE, cv2.CHAIN_APPROX_SIMPLE)  \n",
    "# Print aantal gevonden contouren.\n",
    "print(f\"Aantal contouren: {len(contouren)}\")\n",
    "print(contouren)\n"
   ]
  },
  {
   "cell_type": "markdown",
   "id": "d750d67b",
   "metadata": {},
   "source": [
    "### 4.6 Vormen bepalen (via aantal zijden)"
   ]
  },
  {
   "attachments": {},
   "cell_type": "markdown",
   "id": "98aff73f",
   "metadata": {},
   "source": [
    "Tot slot kan functie `approxPolyDP` het aantal zijden van een contour bepalen. Via dit aantal zijden bepalen we de vorm van de contour."
   ]
  },
  {
   "cell_type": "markdown",
   "id": "8e1ff1c0",
   "metadata": {},
   "source": [
    "#### Oefen mee 4.6"
   ]
  },
  {
   "cell_type": "markdown",
   "id": "6b8ce4f5",
   "metadata": {},
   "source": [
    "Gebruik onderstaande code om de vormen in `driehoek.jpg` & `vormen.png` te printen.\n",
    "\n",
    "<div style=\"background-color:#8B0000\"> \n",
    "Herinner je dat in notebooks ingeladen code onthouden blijft. Voer de code van *oefen mee 4.5* uit. Hiermee laad je de contouren in. Voer hierna onderstaande blok uit. Deze print de gevonden vormen op de afbeelding.\n",
    "</div>\n",
    "\n",
    "- Het algoritme zal de driehoek in `driehoek.jpg` classificeren als een vijfhoek. <div style=\"background-color:#008000\"> \n",
    "    - Hoe komt dit? omdat het verdraaid is \n",
    "</div> "
   ]
  },
  {
   "cell_type": "code",
   "execution_count": 31,
   "id": "2a8772f1",
   "metadata": {},
   "outputs": [
    {
     "name": "stdout",
     "output_type": "stream",
     "text": [
      "Aantal zijden van vorm 1: 4\n",
      "Er staat een vierhoek op de afbeelding!\n",
      "\n",
      "Aantal zijden van vorm 1: 6\n",
      "Er staat een zeshoek op de afbeelding!\n",
      "\n",
      "Aantal zijden van vorm 1: 16\n",
      "Er staat een cirkel op de afbeelding!\n",
      "\n",
      "Aantal zijden van vorm 1: 3\n",
      "Er staat een driehoek op de afbeelding!\n",
      "\n"
     ]
    }
   ],
   "source": [
    "# Zet verschillende vormen klaar.\n",
    "soort_vorm = {0:\"cirkel\", 3: \"driehoek\", 4: \"vierhoek\", 5: \"vijfhoek\", 6: \"zeshoek\"}\n",
    "# Overloop alle contouren.\n",
    "for index, contour in enumerate(contouren): # TODO: zorg ervoor dat variabele contouren gekend is\n",
    "\n",
    "    # Sla eerste contour over (zie oefen mee 4.5 voor reden).\n",
    "    if index == 0: \n",
    "        continue\n",
    "\n",
    "    # Bepaal aantal zijden.\n",
    "    zijden = len(cv2.approxPolyDP(contour, 0.01 * cv2.arcLength(contour, True), True))\n",
    "    # Bepaal en print vorm.\n",
    "    gevonden_vorm = soort_vorm.get(zijden, \"cirkel\")\n",
    "    print(f\"Aantal zijden van vorm 1: {zijden}\")\n",
    "    print(f\"Er staat een {gevonden_vorm} op de afbeelding!\\n\")"
   ]
  },
  {
   "cell_type": "markdown",
   "id": "0319b8cc",
   "metadata": {},
   "source": [
    "## Slotresultaat"
   ]
  },
  {
   "cell_type": "markdown",
   "id": "cba8b59e",
   "metadata": {},
   "source": [
    "Het is een ding om de gevonden vormen te printen. Het is natuurlijk leuker om deze visueel te tonen. Voer onderstaande 3 code-blokken uit. De functie `bepaal_vormen` zal op basis van de gevonden contouren, de afbeelding aanpassen. Dit door kaders rond de contouren te tekenen & labels met de vormen toe te voegen."
   ]
  },
  {
   "cell_type": "code",
   "execution_count": 25,
   "id": "70701714",
   "metadata": {},
   "outputs": [],
   "source": [
    "import cv2\n",
    "from matplotlib import pyplot as plt"
   ]
  },
  {
   "cell_type": "code",
   "execution_count": 26,
   "id": "0d0e7a4f",
   "metadata": {},
   "outputs": [],
   "source": [
    "# Functie om afbeelding weer te geven.\n",
    "def plt_imshow(titel, afbeelding):\n",
    "    plt.imshow(afbeelding, cmap='Greys_r')\n",
    "    plt.title(titel)\n",
    "    plt.grid(False)\n",
    "    plt.show()\n",
    "\n",
    "# Functie om vormen te bepalen & toe te voegen aan de afbeelding.\n",
    "def bepaal_vormen(afbeelding, contouren):\n",
    "    # Zet verschillende vormen klaar.\n",
    "    soort_vorm = {0:\"cirkel\", 3: \"driehoek\", 4: \"vierhoek\", 5: \"vijfhoek\", 6: \"zeshoek\"}\n",
    "    # Overloop alle contouren.\n",
    "    for index, contour in enumerate(contouren):\n",
    "    \n",
    "        # Sla eerste contour over (zie oefen mee 4.5 voor reden).\n",
    "        if index == 0: \n",
    "            continue\n",
    "    \n",
    "        # Bepaal aantal zijden.\n",
    "        zijden = cv2.approxPolyDP(contour, 0.01 * cv2.arcLength(contour, True), True)\n",
    "        \n",
    "        # Teken vorm rond contour.\n",
    "        cv2.drawContours(afbeelding, [contour],-1, (0, 255, 0), 5)\n",
    "    \n",
    "        # zoekt centrum van contour (voor plakken van label).\n",
    "        M = cv2.moments(contour)\n",
    "        x = int(M[\"m10\"]/M[\"m00\"])-35\n",
    "        y = int(M[\"m01\"]/M[\"m00\"])\n",
    "\n",
    "        # Bepaal soort vorm op basis van aantal zijden.\n",
    "        gevonden_vorm = soort_vorm.get(len(zijden), \"cirkel\")\n",
    "\n",
    "        # zet correcte label op centrum van de vorm\n",
    "        cv2.putText(afbeelding, gevonden_vorm, (x, y), cv2.FONT_HERSHEY_SIMPLEX, 0.5, (0, 0, 0), 2)\n",
    "        \n",
    "    return afbeelding "
   ]
  },
  {
   "cell_type": "code",
   "execution_count": 29,
   "id": "2d2d8658",
   "metadata": {},
   "outputs": [
    {
     "data": {
      "image/png": "[encoded data removed]",
      "text/plain": [
       "<Figure size 640x480 with 1 Axes>"
      ]
     },
     "metadata": {},
     "output_type": "display_data"
    }
   ],
   "source": [
    "# Afbeelding inladen (met grijswaarden).\n",
    "vormen = cv2.imread(r\"../_afbeeldingen/driehoek.jpg\")\n",
    "vormen_grijs = cv2.cvtColor(vormen, cv2.COLOR_BGR2GRAY)\n",
    "\n",
    "# Drempel gebruiken om driehoek & achtergrond volledig te scheiden.\n",
    "# Alle pixels kleiner dan 127 worden 0, groter dan 127 worden 255.\n",
    "_, vormen_drempel = cv2.threshold(vormen_grijs, 127, 255, cv2.THRESH_BINARY)\n",
    "\n",
    "contouren, _ = cv2.findContours(vormen_drempel, cv2.RETR_TREE, cv2.CHAIN_APPROX_SIMPLE)  \n",
    "vormen_resultaat = bepaal_vormen(vormen, contouren) # !!! Merk op: voegt gevonden vormen toe aan originele afbeelding !!! \n",
    "\n",
    "plt_imshow(\"Vormen gevonden\", vormen_resultaat)"
   ]
  },
  {
   "cell_type": "markdown",
   "id": "72c4331f",
   "metadata": {},
   "source": [
    "<div style=\"background-color:#8B8000\"> \n",
    "Probeer bovenstaande code om te vormen zodat deze <b>driehoek.jpg</b> gebruikt (Tip! wijzig het pad). Het resultaat zal er niet fantastisch uit zien. Hoe kan dit komen? \n",
    "</div>"
   ]
  },
  {
   "attachments": {},
   "cell_type": "markdown",
   "id": "749c5e6b",
   "metadata": {},
   "source": [
    "#\n",
    "  <a href=\"https://www.aiopschool.be/chatbot/\"> \n",
    "        <img src=\"../_afbeeldingen/bannerugentdwengo.png\" alt=\"Dwengo\" style =\"display: block; margin-left: auto; margin-right: auto; margin-bottom: 30px; width:20%\"/>\n",
    "    </a>\n",
    "\n",
    "Deze Notebook is gebaseerd op: Notebook AI in de Landbouw, zie <a href=\"http://www.aiopschool.be\">AI Op School</a>, van S. Pletinck , F. wyffels & N. Gesquière is in licentie gegeven volgens een <a href=\"http://creativecommons.org/licenses/by-nc-sa/4.0/\">Creative Commons Naamsvermelding-NietCommercieel-GelijkDelen 4.0 Internationaal-licentie</a>. "
   ]
  }
 ],
 "metadata": {
  "kernelspec": {
   "display_name": "prog4",
   "language": "python",
   "name": "prog4"
  },
  "language_info": {
   "codemirror_mode": {
    "name": "ipython",
    "version": 3
   },
   "file_extension": ".py",
   "mimetype": "text/x-python",
   "name": "python",
   "nbconvert_exporter": "python",
   "pygments_lexer": "ipython3",
   "version": "3.10.6"
  }
 },
 "nbformat": 4,
 "nbformat_minor": 5
}
